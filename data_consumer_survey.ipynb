{
 "cells": [
  {
   "cell_type": "code",
   "execution_count": 14,
   "metadata": {},
   "outputs": [],
   "source": [
    "# Import the necessary library we need for our data preparation: pandas package:\n",
    "import pandas as pd"
   ]
  },
  {
   "cell_type": "code",
   "execution_count": 15,
   "metadata": {},
   "outputs": [],
   "source": [
    "# Read in csv file containing data from consumer survey:\n",
    "survey = pd.read_csv('data/consumer_survey.csv')"
   ]
  },
  {
   "cell_type": "code",
   "execution_count": 16,
   "metadata": {},
   "outputs": [
    {
     "data": {
      "text/html": [
       "<div>\n",
       "<style scoped>\n",
       "    .dataframe tbody tr th:only-of-type {\n",
       "        vertical-align: middle;\n",
       "    }\n",
       "\n",
       "    .dataframe tbody tr th {\n",
       "        vertical-align: top;\n",
       "    }\n",
       "\n",
       "    .dataframe thead th {\n",
       "        text-align: right;\n",
       "    }\n",
       "</style>\n",
       "<table border=\"1\" class=\"dataframe\">\n",
       "  <thead>\n",
       "    <tr style=\"text-align: right;\">\n",
       "      <th></th>\n",
       "      <th>question</th>\n",
       "      <th>group</th>\n",
       "      <th>item</th>\n",
       "      <th>agreement_percent</th>\n",
       "    </tr>\n",
       "  </thead>\n",
       "  <tbody>\n",
       "    <tr>\n",
       "      <th>0</th>\n",
       "      <td>Current frequency of buying organic foods</td>\n",
       "      <td>Age 14-29</td>\n",
       "      <td>Exclusively</td>\n",
       "      <td>3</td>\n",
       "    </tr>\n",
       "    <tr>\n",
       "      <th>1</th>\n",
       "      <td>Current frequency of buying organic foods</td>\n",
       "      <td>Age 14-29</td>\n",
       "      <td>Frequently</td>\n",
       "      <td>30</td>\n",
       "    </tr>\n",
       "    <tr>\n",
       "      <th>2</th>\n",
       "      <td>Current frequency of buying organic foods</td>\n",
       "      <td>Age 14-29</td>\n",
       "      <td>Occasionally</td>\n",
       "      <td>51</td>\n",
       "    </tr>\n",
       "    <tr>\n",
       "      <th>3</th>\n",
       "      <td>Current frequency of buying organic foods</td>\n",
       "      <td>Age 14-29</td>\n",
       "      <td>Never</td>\n",
       "      <td>16</td>\n",
       "    </tr>\n",
       "    <tr>\n",
       "      <th>4</th>\n",
       "      <td>Current frequency of buying organic foods</td>\n",
       "      <td>Age 30-49</td>\n",
       "      <td>Exclusively</td>\n",
       "      <td>3</td>\n",
       "    </tr>\n",
       "    <tr>\n",
       "      <th>...</th>\n",
       "      <td>...</td>\n",
       "      <td>...</td>\n",
       "      <td>...</td>\n",
       "      <td>...</td>\n",
       "    </tr>\n",
       "    <tr>\n",
       "      <th>103</th>\n",
       "      <td>Reasons for buying organic foods</td>\n",
       "      <td>Total</td>\n",
       "      <td>No use of genetically changed organisms</td>\n",
       "      <td>74</td>\n",
       "    </tr>\n",
       "    <tr>\n",
       "      <th>104</th>\n",
       "      <td>Reasons for buying organic foods</td>\n",
       "      <td>Total</td>\n",
       "      <td>Products as natural as possible</td>\n",
       "      <td>90</td>\n",
       "    </tr>\n",
       "    <tr>\n",
       "      <th>105</th>\n",
       "      <td>Reasons for buying organic foods</td>\n",
       "      <td>Total</td>\n",
       "      <td>Regional origin and support for regional firms</td>\n",
       "      <td>88</td>\n",
       "    </tr>\n",
       "    <tr>\n",
       "      <th>106</th>\n",
       "      <td>Reasons for buying organic foods</td>\n",
       "      <td>Total</td>\n",
       "      <td>Social standards and fair income for producers</td>\n",
       "      <td>79</td>\n",
       "    </tr>\n",
       "    <tr>\n",
       "      <th>107</th>\n",
       "      <td>Reasons for buying organic foods</td>\n",
       "      <td>Total</td>\n",
       "      <td>Taste</td>\n",
       "      <td>67</td>\n",
       "    </tr>\n",
       "  </tbody>\n",
       "</table>\n",
       "<p>108 rows × 4 columns</p>\n",
       "</div>"
      ],
      "text/plain": [
       "                                      question      group  \\\n",
       "0    Current frequency of buying organic foods  Age 14-29   \n",
       "1    Current frequency of buying organic foods  Age 14-29   \n",
       "2    Current frequency of buying organic foods  Age 14-29   \n",
       "3    Current frequency of buying organic foods  Age 14-29   \n",
       "4    Current frequency of buying organic foods  Age 30-49   \n",
       "..                                         ...        ...   \n",
       "103           Reasons for buying organic foods      Total   \n",
       "104           Reasons for buying organic foods      Total   \n",
       "105           Reasons for buying organic foods      Total   \n",
       "106           Reasons for buying organic foods      Total   \n",
       "107           Reasons for buying organic foods      Total   \n",
       "\n",
       "                                               item  agreement_percent  \n",
       "0                                       Exclusively                  3  \n",
       "1                                        Frequently                 30  \n",
       "2                                      Occasionally                 51  \n",
       "3                                             Never                 16  \n",
       "4                                       Exclusively                  3  \n",
       "..                                              ...                ...  \n",
       "103         No use of genetically changed organisms                 74  \n",
       "104                 Products as natural as possible                 90  \n",
       "105  Regional origin and support for regional firms                 88  \n",
       "106  Social standards and fair income for producers                 79  \n",
       "107                                           Taste                 67  \n",
       "\n",
       "[108 rows x 4 columns]"
      ]
     },
     "execution_count": 16,
     "metadata": {},
     "output_type": "execute_result"
    }
   ],
   "source": [
    "# Show dataframe:\n",
    "survey"
   ]
  },
  {
   "cell_type": "code",
   "execution_count": 17,
   "metadata": {},
   "outputs": [
    {
     "name": "stdout",
     "output_type": "stream",
     "text": [
      "<class 'pandas.core.frame.DataFrame'>\n",
      "RangeIndex: 108 entries, 0 to 107\n",
      "Data columns (total 4 columns):\n",
      " #   Column             Non-Null Count  Dtype \n",
      "---  ------             --------------  ----- \n",
      " 0   question           108 non-null    object\n",
      " 1   group              108 non-null    object\n",
      " 2   item               108 non-null    object\n",
      " 3   agreement_percent  108 non-null    int64 \n",
      "dtypes: int64(1), object(3)\n",
      "memory usage: 3.5+ KB\n"
     ]
    }
   ],
   "source": [
    "# Show dataframe info:\n",
    "survey.info()"
   ]
  },
  {
   "cell_type": "code",
   "execution_count": 18,
   "metadata": {},
   "outputs": [],
   "source": [
    "# We have no null values in our dataframe."
   ]
  },
  {
   "cell_type": "code",
   "execution_count": 19,
   "metadata": {},
   "outputs": [],
   "source": [
    "# We now want to upload the dataframe to the database on the server."
   ]
  },
  {
   "cell_type": "code",
   "execution_count": 20,
   "metadata": {},
   "outputs": [],
   "source": [
    "# Import sql_functions.py because we need some functions from that module:\n",
    "import sql_functions as sqlf\n",
    "\n",
    "# We need to restart the kernel and rerun at this point if we changed the module since we first imported it."
   ]
  },
  {
   "cell_type": "code",
   "execution_count": 21,
   "metadata": {},
   "outputs": [],
   "source": [
    "# Create a variable called engine using the get_engine function:\n",
    "engine = sqlf.get_engine()"
   ]
  },
  {
   "cell_type": "code",
   "execution_count": 22,
   "metadata": {},
   "outputs": [],
   "source": [
    "# We set the schema to our course name:\n",
    "schema = 'capstone_organicfood'\n",
    "\n",
    "# We set the table_name variable to our group name + the name of the dataframe:\n",
    "table_name = 'consumer_survey'"
   ]
  },
  {
   "cell_type": "code",
   "execution_count": 23,
   "metadata": {},
   "outputs": [],
   "source": [
    "# We need psycopg2 for raising possible error message:\n",
    "import psycopg2"
   ]
  },
  {
   "cell_type": "code",
   "execution_count": 24,
   "metadata": {},
   "outputs": [
    {
     "name": "stdout",
     "output_type": "stream",
     "text": [
      "The consumer_survey table was imported successfully.\n"
     ]
    }
   ],
   "source": [
    "# Write records stored in the dataframe to SQL database:\n",
    "if engine!=None:\n",
    "    try:\n",
    "        survey.to_sql(name=table_name, # name of SQL table variable\n",
    "                        con=engine, # engine or connection\n",
    "                        schema=schema, # our class schema variable\n",
    "                        if_exists='replace', # Drop the table before inserting new values\n",
    "                        index=False, # Write DataFrame index as a column\n",
    "                        chunksize=5000, # Specify the number of rows in each batch to be written at a time\n",
    "                        method='multi') # Pass multiple values in a single INSERT clause\n",
    "        print(f\"The {table_name} table was imported successfully.\")\n",
    "    # Error handling\n",
    "    except (Exception, psycopg2.DatabaseError) as error:\n",
    "        print(error)\n",
    "        engine = None\n",
    "else:\n",
    "    print('No engine')"
   ]
  },
  {
   "cell_type": "code",
   "execution_count": 25,
   "metadata": {},
   "outputs": [
    {
     "data": {
      "text/html": [
       "<div>\n",
       "<style scoped>\n",
       "    .dataframe tbody tr th:only-of-type {\n",
       "        vertical-align: middle;\n",
       "    }\n",
       "\n",
       "    .dataframe tbody tr th {\n",
       "        vertical-align: top;\n",
       "    }\n",
       "\n",
       "    .dataframe thead th {\n",
       "        text-align: right;\n",
       "    }\n",
       "</style>\n",
       "<table border=\"1\" class=\"dataframe\">\n",
       "  <thead>\n",
       "    <tr style=\"text-align: right;\">\n",
       "      <th></th>\n",
       "      <th>count</th>\n",
       "    </tr>\n",
       "  </thead>\n",
       "  <tbody>\n",
       "    <tr>\n",
       "      <th>0</th>\n",
       "      <td>108</td>\n",
       "    </tr>\n",
       "  </tbody>\n",
       "</table>\n",
       "</div>"
      ],
      "text/plain": [
       "   count\n",
       "0    108"
      ]
     },
     "execution_count": 25,
     "metadata": {},
     "output_type": "execute_result"
    }
   ],
   "source": [
    "# Test: query the newly created table to count the rows (we know from above that the dataframe has 108 cases):\n",
    "sqlf.get_dataframe(f'SELECT COUNT(*) FROM {schema}.consumer_survey;')"
   ]
  },
  {
   "cell_type": "code",
   "execution_count": 26,
   "metadata": {},
   "outputs": [],
   "source": [
    "# Worked!"
   ]
  }
 ],
 "metadata": {
  "kernelspec": {
   "display_name": "nf_sql",
   "language": "python",
   "name": "python3"
  },
  "language_info": {
   "codemirror_mode": {
    "name": "ipython",
    "version": 3
   },
   "file_extension": ".py",
   "mimetype": "text/x-python",
   "name": "python",
   "nbconvert_exporter": "python",
   "pygments_lexer": "ipython3",
   "version": "3.9.12"
  }
 },
 "nbformat": 4,
 "nbformat_minor": 2
}
