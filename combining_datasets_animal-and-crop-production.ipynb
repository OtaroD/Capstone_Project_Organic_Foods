from matplotlib import rcParams, cycler
import matplotlib.pyplot as plt
import numpy as np
